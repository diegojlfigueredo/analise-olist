{
 "cells": [
  {
   "cell_type": "code",
   "execution_count": null,
   "id": "dfbdd5f6-072e-4e72-84c0-ea880003ca8a",
   "metadata": {},
   "outputs": [],
   "source": []
  }
 ],
 "metadata": {
  "kernelspec": {
   "display_name": "",
   "name": ""
  },
  "language_info": {
   "name": ""
  }
 },
 "nbformat": 4,
 "nbformat_minor": 5
}
